{
  "nbformat": 4,
  "nbformat_minor": 0,
  "metadata": {
    "colab": {
      "name": "Sed validation.ipynb",
      "provenance": [],
      "authorship_tag": "ABX9TyOJzwwhzzpIOZepwJ24+pXl",
      "include_colab_link": true
    },
    "kernelspec": {
      "name": "python3",
      "display_name": "Python 3"
    }
  },
  "cells": [
    {
      "cell_type": "markdown",
      "metadata": {
        "id": "view-in-github",
        "colab_type": "text"
      },
      "source": [
        "<a href=\"https://colab.research.google.com/github/AguaClara/aide_validation/blob/master/UP_validation/Sed_validation.ipynb\" target=\"_parent\"><img src=\"https://colab.research.google.com/assets/colab-badge.svg\" alt=\"Open In Colab\"/></a>"
      ]
    },
    {
      "cell_type": "code",
      "metadata": {
        "id": "sUq6JJGAzLm_"
      },
      "source": [
        "!pip install aguaclara"
      ],
      "execution_count": null,
      "outputs": []
    },
    {
      "cell_type": "code",
      "metadata": {
        "id": "uBOxLLY9zUpa"
      },
      "source": [
        "import aguaclara as ac\n",
        "from aguaclara.core.units import unit_registry as u\n",
        "import numpy as np"
      ],
      "execution_count": null,
      "outputs": []
    },
    {
      "cell_type": "markdown",
      "metadata": {
        "id": "a_C2secW0sFR"
      },
      "source": [
        "#Inputs\n",
        "\n",
        "Q_max\n",
        "\n",
        "# Checks\n",
        "\n",
        "\n",
        "1.   Is the upflow velocity met?\n",
        "2.   Is the capture velocity requirement met?\n",
        "3.   Is the flow uniformity requirement for the inlet manifold met?\n",
        "4.   Is the shear stress in the jet coming up out of the jet reverser low enough so that flocs will be large enough to be captured by the plate settlers?\n",
        "\n",
        "## Upflow velocity\n",
        "\n",
        "Divide the max flow rate by the plan view area of the top of the floc blanket or the bottom of the active part of the plate settlers. This will give $\\bar v_{z_{Active}}$. \n",
        "\n",
        "## Capture velocity\n",
        "\n",
        "From mass conservation the flow speeds up when it enters the plate settlers due to the thickness of the plates.\n",
        "$$\\bar v_{z_{Plate}} = \\frac{\\bar v_{z_{Active}} (S+T)}{S}$$\n",
        "\n",
        "Now calculate the capture velocity and compare with the specified capture velocity\n",
        "$$\\bar v_c = \\frac{S  \\bar v_{z_{Plate}}}{Lsin\\alpha cos\\alpha + S}4$$\n",
        "\n",
        "## Manifold flow uniformity\n"
      ]
    }
  ]
}